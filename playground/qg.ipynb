{
 "cells": [
  {
   "cell_type": "code",
   "execution_count": 2,
   "metadata": {},
   "outputs": [],
   "source": [
    "nx=64\n",
    "ny=64"
   ]
  },
  {
   "cell_type": "code",
   "execution_count": 9,
   "metadata": {},
   "outputs": [
    {
     "data": {
      "text/plain": [
       "torch.Size([64, 64])"
      ]
     },
     "execution_count": 9,
     "metadata": {},
     "output_type": "execute_result"
    }
   ],
   "source": [
    "(1e-7*torch.rand(ny,nx) + 1e-6*(torch.ones((ny,1)) * torch.rand(1,nx) ))"
   ]
  },
  {
   "cell_type": "code",
   "execution_count": 12,
   "metadata": {},
   "outputs": [
    {
     "data": {
      "text/plain": [
       "tensor([[[0., 0., 0.,  ..., 0., 0., 0.],\n",
       "         [0., 0., 0.,  ..., 0., 0., 0.],\n",
       "         [0., 0., 0.,  ..., 0., 0., 0.],\n",
       "         ...,\n",
       "         [0., 0., 0.,  ..., 0., 0., 0.],\n",
       "         [0., 0., 0.,  ..., 0., 0., 0.],\n",
       "         [0., 0., 0.,  ..., 0., 0., 0.]],\n",
       "\n",
       "        [[0., 0., 0.,  ..., 0., 0., 0.],\n",
       "         [0., 0., 0.,  ..., 0., 0., 0.],\n",
       "         [0., 0., 0.,  ..., 0., 0., 0.],\n",
       "         ...,\n",
       "         [0., 0., 0.,  ..., 0., 0., 0.],\n",
       "         [0., 0., 0.,  ..., 0., 0., 0.],\n",
       "         [0., 0., 0.,  ..., 0., 0., 0.]]])"
      ]
     },
     "execution_count": 12,
     "metadata": {},
     "output_type": "execute_result"
    }
   ],
   "source": [
    "torch.stack((torch.zeros(nx,nx),torch.zeros(nx,nx)))"
   ]
  },
  {
   "cell_type": "code",
   "execution_count": null,
   "metadata": {},
   "outputs": [],
   "source": []
  },
  {
   "cell_type": "code",
   "execution_count": 1,
   "metadata": {},
   "outputs": [],
   "source": [
    "import torch\n",
    "import numpy as np"
   ]
  },
  {
   "cell_type": "code",
   "execution_count": 2,
   "metadata": {},
   "outputs": [
    {
     "data": {
      "text/plain": [
       "tensor([[0.8505, 0.9775],\n",
       "        [0.1650, 0.6387]])"
      ]
     },
     "execution_count": 2,
     "metadata": {},
     "output_type": "execute_result"
    }
   ],
   "source": [
    "torch.rand(2,2)"
   ]
  },
  {
   "cell_type": "code",
   "execution_count": 3,
   "metadata": {},
   "outputs": [],
   "source": [
    "class QG_kernel():\n",
    "    def __init__(\n",
    "        self,\n",
    "        nx=64\n",
    "        L=1e6,                      # domain size is L [m]\n",
    "        beta=1.5e-11,               # gradient of coriolis parameter\n",
    "        rek=5.787e-7,               # linear drag in lower layer\n",
    "        rd=15000.0,                 # deformation radius\n",
    "        delta=0.25,                 # layer thickness ratio (H1/H2)\n",
    "        H1 = 500,                   # depth of layer 1 (H1)\n",
    "        U1=0.025,                   # upper layer flow\n",
    "        U2=0.0,                     # lower layer flow\n",
    "        **kwargs\n",
    "        ):\n",
    "        \"\"\"\n",
    "        Parameters\n",
    "        ----------\n",
    "\n",
    "        beta : number\n",
    "            Gradient of coriolis parameter. Units: meters :sup:`-1`\n",
    "            seconds :sup:`-1`\n",
    "        rek : number\n",
    "            Linear drag in lower layer. Units: seconds :sup:`-1`\n",
    "        rd : number\n",
    "            Deformation radius. Units: meters.\n",
    "        delta : number\n",
    "            Layer thickness ratio (H1/H2)\n",
    "        U1 : number\n",
    "            Upper layer flow. Units: meters seconds :sup:`-1`\n",
    "        U2 : number\n",
    "            Lower layer flow. Units: meters seconds :sup:`-1`\n",
    "        \"\"\"\n",
    "\n",
    "        # physical\n",
    "        self.beta = beta\n",
    "        #self.rek = rek\n",
    "        self.rd = rd\n",
    "        self.delta = delta\n",
    "        self.Hi = np.array([ H1, H1/delta])\n",
    "        self.U1 = U1\n",
    "        self.U2 = U2\n",
    "        self.nx = nx\n",
    "        self.ny = nx\n",
    "\n",
    "\n",
    "        # initial conditions: (PV anomalies)\n",
    "        self.set_q1q2()\n",
    "        \n",
    "    def set_q1q2(self):\n",
    "        self.q=torch.stack((1e-7*torch.rand(self.ny,self.nx) + 1e-6*(torch.ones((self.ny,1)) * torch.rand(1,self.nx) ),torch.zeros(self.nx,self.nx)))\n",
    "        \n",
    "    def timestep(self):\n",
    "        \"\"\" Advance system forward in time one step \"\"\"\n",
    "        \n",
    "        \"\"\" 1. Need a function for the RHS\n",
    "            2. Pass RHS to some numerical solver\n",
    "            \n",
    "        \"\"\"\n",
    "        \n",
    "    def rhs(self):\n",
    "        \"\"\" Essentially build a tensor of dq/dt \"\"\"\n",
    "        "
   ]
  },
  {
   "cell_type": "code",
   "execution_count": 4,
   "metadata": {},
   "outputs": [],
   "source": [
    "qg_kernel=QG_kernel()"
   ]
  },
  {
   "cell_type": "code",
   "execution_count": 5,
   "metadata": {},
   "outputs": [
    {
     "data": {
      "text/plain": [
       "tensor([[[2.0993e-07, 3.6425e-07, 6.0980e-07,  ..., 1.0314e-06,\n",
       "          5.6419e-07, 6.0985e-07],\n",
       "         [1.5738e-07, 2.8919e-07, 6.0423e-07,  ..., 9.4039e-07,\n",
       "          5.2460e-07, 5.4372e-07],\n",
       "         [1.9607e-07, 3.5660e-07, 6.7206e-07,  ..., 9.3997e-07,\n",
       "          5.6840e-07, 5.9360e-07],\n",
       "         ...,\n",
       "         [1.8000e-07, 3.2151e-07, 6.1705e-07,  ..., 9.9809e-07,\n",
       "          5.3923e-07, 6.1448e-07],\n",
       "         [1.5192e-07, 3.8386e-07, 6.6572e-07,  ..., 1.0193e-06,\n",
       "          5.4849e-07, 5.7937e-07],\n",
       "         [1.7754e-07, 3.4494e-07, 6.1240e-07,  ..., 9.5277e-07,\n",
       "          5.4559e-07, 5.4892e-07]],\n",
       "\n",
       "        [[0.0000e+00, 0.0000e+00, 0.0000e+00,  ..., 0.0000e+00,\n",
       "          0.0000e+00, 0.0000e+00],\n",
       "         [0.0000e+00, 0.0000e+00, 0.0000e+00,  ..., 0.0000e+00,\n",
       "          0.0000e+00, 0.0000e+00],\n",
       "         [0.0000e+00, 0.0000e+00, 0.0000e+00,  ..., 0.0000e+00,\n",
       "          0.0000e+00, 0.0000e+00],\n",
       "         ...,\n",
       "         [0.0000e+00, 0.0000e+00, 0.0000e+00,  ..., 0.0000e+00,\n",
       "          0.0000e+00, 0.0000e+00],\n",
       "         [0.0000e+00, 0.0000e+00, 0.0000e+00,  ..., 0.0000e+00,\n",
       "          0.0000e+00, 0.0000e+00],\n",
       "         [0.0000e+00, 0.0000e+00, 0.0000e+00,  ..., 0.0000e+00,\n",
       "          0.0000e+00, 0.0000e+00]]])"
      ]
     },
     "execution_count": 5,
     "metadata": {},
     "output_type": "execute_result"
    }
   ],
   "source": [
    "qg_kernel.q"
   ]
  },
  {
   "cell_type": "code",
   "execution_count": 6,
   "metadata": {},
   "outputs": [],
   "source": [
    "### Get streamfunction?\n",
    "### d2/dx2 psi = q + psi"
   ]
  },
  {
   "cell_type": "code",
   "execution_count": 7,
   "metadata": {},
   "outputs": [],
   "source": [
    "q=qg_kernel.q[0]\n",
    "psi=torch.zeros(q.shape)"
   ]
  },
  {
   "cell_type": "code",
   "execution_count": 8,
   "metadata": {},
   "outputs": [],
   "source": [
    "qh=np.fft.fft(q+psi)\n",
    "#psih=np.fft.fft(psi)"
   ]
  },
  {
   "cell_type": "code",
   "execution_count": 9,
   "metadata": {},
   "outputs": [
    {
     "ename": "ValueError",
     "evalue": "operands could not be broadcast together with shapes (64,64) (0,) ",
     "output_type": "error",
     "traceback": [
      "\u001b[0;31m---------------------------------------------------------------------------\u001b[0m",
      "\u001b[0;31mValueError\u001b[0m                                Traceback (most recent call last)",
      "Input \u001b[0;32mIn [9]\u001b[0m, in \u001b[0;36m<cell line: 1>\u001b[0;34m()\u001b[0m\n\u001b[0;32m----> 1\u001b[0m np\u001b[38;5;241m.\u001b[39mfft\u001b[38;5;241m.\u001b[39mifft(\u001b[38;5;241;43m-\u001b[39;49m\u001b[43mqh\u001b[49m\u001b[38;5;241;43m/\u001b[39;49m\u001b[43m(\u001b[49m\u001b[43m)\u001b[49m)\n",
      "\u001b[0;31mValueError\u001b[0m: operands could not be broadcast together with shapes (64,64) (0,) "
     ]
    }
   ],
   "source": [
    "np.fft.ifft(-qh/())"
   ]
  },
  {
   "cell_type": "code",
   "execution_count": null,
   "metadata": {},
   "outputs": [],
   "source": []
  }
 ],
 "metadata": {
  "kernelspec": {
   "display_name": "sing",
   "language": "python",
   "name": "sing"
  },
  "language_info": {
   "codemirror_mode": {
    "name": "ipython",
    "version": 3
   },
   "file_extension": ".py",
   "mimetype": "text/x-python",
   "name": "python",
   "nbconvert_exporter": "python",
   "pygments_lexer": "ipython3",
   "version": "3.9.12"
  }
 },
 "nbformat": 4,
 "nbformat_minor": 4
}
