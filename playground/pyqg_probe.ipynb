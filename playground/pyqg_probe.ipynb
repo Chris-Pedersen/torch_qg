{
 "cells": [
  {
   "cell_type": "markdown",
   "metadata": {},
   "source": [
    "## PyQG\n",
    "\n",
    "Mess around with various quantities in pyqg"
   ]
  },
  {
   "cell_type": "code",
   "execution_count": 1,
   "metadata": {},
   "outputs": [
    {
     "name": "stderr",
     "output_type": "stream",
     "text": [
      "/ext3/miniconda3/lib/python3.9/site-packages/scipy/__init__.py:155: UserWarning: A NumPy version >=1.18.5 and <1.25.0 is required for this version of SciPy (detected version 1.26.0\n",
      "  warnings.warn(f\"A NumPy version >={np_minversion} and <{np_maxversion}\"\n"
     ]
    }
   ],
   "source": [
    "import pyqg"
   ]
  },
  {
   "cell_type": "code",
   "execution_count": 2,
   "metadata": {},
   "outputs": [
    {
     "name": "stderr",
     "output_type": "stream",
     "text": [
      "INFO:  Logger initialized\n"
     ]
    }
   ],
   "source": [
    "model=pyqg.QGModel()"
   ]
  },
  {
   "cell_type": "code",
   "execution_count": 3,
   "metadata": {},
   "outputs": [
    {
     "data": {
      "text/plain": [
       "33"
      ]
     },
     "execution_count": 3,
     "metadata": {},
     "output_type": "execute_result"
    }
   ],
   "source": [
    "model.nk"
   ]
  },
  {
   "cell_type": "code",
   "execution_count": 4,
   "metadata": {},
   "outputs": [
    {
     "data": {
      "text/plain": [
       "64"
      ]
     },
     "execution_count": 4,
     "metadata": {},
     "output_type": "execute_result"
    }
   ],
   "source": [
    "model.nl"
   ]
  },
  {
   "cell_type": "code",
   "execution_count": 5,
   "metadata": {},
   "outputs": [
    {
     "data": {
      "text/plain": [
       "array([0.00000000e+00, 6.28318531e-06, 1.25663706e-05, 1.88495559e-05,\n",
       "       2.51327412e-05, 3.14159265e-05, 3.76991118e-05, 4.39822972e-05,\n",
       "       5.02654825e-05, 5.65486678e-05, 6.28318531e-05, 6.91150384e-05,\n",
       "       7.53982237e-05, 8.16814090e-05, 8.79645943e-05, 9.42477796e-05,\n",
       "       1.00530965e-04, 1.06814150e-04, 1.13097336e-04, 1.19380521e-04,\n",
       "       1.25663706e-04, 1.31946891e-04, 1.38230077e-04, 1.44513262e-04,\n",
       "       1.50796447e-04, 1.57079633e-04, 1.63362818e-04, 1.69646003e-04,\n",
       "       1.75929189e-04, 1.82212374e-04, 1.88495559e-04, 1.94778745e-04,\n",
       "       2.01061930e-04])"
      ]
     },
     "execution_count": 5,
     "metadata": {},
     "output_type": "execute_result"
    }
   ],
   "source": [
    "model.kk"
   ]
  },
  {
   "cell_type": "code",
   "execution_count": 6,
   "metadata": {},
   "outputs": [
    {
     "data": {
      "text/plain": [
       "array([ 0.00000000e+00,  6.28318531e-06,  1.25663706e-05,  1.88495559e-05,\n",
       "        2.51327412e-05,  3.14159265e-05,  3.76991118e-05,  4.39822972e-05,\n",
       "        5.02654825e-05,  5.65486678e-05,  6.28318531e-05,  6.91150384e-05,\n",
       "        7.53982237e-05,  8.16814090e-05,  8.79645943e-05,  9.42477796e-05,\n",
       "        1.00530965e-04,  1.06814150e-04,  1.13097336e-04,  1.19380521e-04,\n",
       "        1.25663706e-04,  1.31946891e-04,  1.38230077e-04,  1.44513262e-04,\n",
       "        1.50796447e-04,  1.57079633e-04,  1.63362818e-04,  1.69646003e-04,\n",
       "        1.75929189e-04,  1.82212374e-04,  1.88495559e-04,  1.94778745e-04,\n",
       "       -2.01061930e-04, -1.94778745e-04, -1.88495559e-04, -1.82212374e-04,\n",
       "       -1.75929189e-04, -1.69646003e-04, -1.63362818e-04, -1.57079633e-04,\n",
       "       -1.50796447e-04, -1.44513262e-04, -1.38230077e-04, -1.31946891e-04,\n",
       "       -1.25663706e-04, -1.19380521e-04, -1.13097336e-04, -1.06814150e-04,\n",
       "       -1.00530965e-04, -9.42477796e-05, -8.79645943e-05, -8.16814090e-05,\n",
       "       -7.53982237e-05, -6.91150384e-05, -6.28318531e-05, -5.65486678e-05,\n",
       "       -5.02654825e-05, -4.39822972e-05, -3.76991118e-05, -3.14159265e-05,\n",
       "       -2.51327412e-05, -1.88495559e-05, -1.25663706e-05, -6.28318531e-06])"
      ]
     },
     "execution_count": 6,
     "metadata": {},
     "output_type": "execute_result"
    }
   ],
   "source": [
    "model.ll"
   ]
  },
  {
   "cell_type": "code",
   "execution_count": 11,
   "metadata": {},
   "outputs": [
    {
     "data": {
      "text/plain": [
       "8.888888888888889e-10"
      ]
     },
     "execution_count": 11,
     "metadata": {},
     "output_type": "execute_result"
    }
   ],
   "source": [
    "model.F2"
   ]
  },
  {
   "cell_type": "code",
   "execution_count": null,
   "metadata": {},
   "outputs": [],
   "source": []
  }
 ],
 "metadata": {
  "kernelspec": {
   "display_name": "sing",
   "language": "python",
   "name": "sing"
  },
  "language_info": {
   "codemirror_mode": {
    "name": "ipython",
    "version": 3
   },
   "file_extension": ".py",
   "mimetype": "text/x-python",
   "name": "python",
   "nbconvert_exporter": "python",
   "pygments_lexer": "ipython3",
   "version": "3.9.12"
  }
 },
 "nbformat": 4,
 "nbformat_minor": 4
}
